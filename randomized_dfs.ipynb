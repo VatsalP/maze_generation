{
 "cells": [
  {
   "cell_type": "markdown",
   "metadata": {},
   "source": [
    "# Maze generation using recursive backtracker"
   ]
  },
  {
   "cell_type": "code",
   "execution_count": 5,
   "metadata": {},
   "outputs": [],
   "source": [
    "import time\n",
    "\n",
    "import numpy as np\n",
    "import matplotlib.pyplot as pyplot\n",
    "from matplotlib import colors\n",
    "from numpy.random import randint, shuffle, seed"
   ]
  },
  {
   "cell_type": "markdown",
   "metadata": {},
   "source": [
    "The following maze generation is of passage carver type i.e. it starts with filled space and carves passage."
   ]
  },
  {
   "cell_type": "code",
   "execution_count": 6,
   "metadata": {},
   "outputs": [],
   "source": [
    "def render(maze, shape, colored_pillars=False):\n",
    "    \"\"\"Prepares maze with walls\n",
    "    \"\"\"\n",
    "    # corner pillars between adjacent rooms\n",
    "    if colored_pillars:\n",
    "        for i in range(1, shape[0]-1, 2):\n",
    "            for j in range(1, shape[1]-1, 2):\n",
    "                maze[i, j] = 3\n",
    "    # build some walls\n",
    "    maze = np.insert(maze, shape[1], 1, axis=1)\n",
    "    maze = np.insert(maze, 0, 1, axis=1)\n",
    "    maze = np.insert(maze, shape[0], np.ones(shape[1]+2), axis=0)\n",
    "    maze = np.insert(maze, 0, np.ones(shape[1]+2), axis=0)\n",
    "    return maze\n",
    "    \n",
    "\n",
    "def generate_maze(width=100, height=50):\n",
    "    \"\"\"Used for generating mazes\n",
    "    Employs Recursive backtracking - randomized dfs\n",
    "    \n",
    "    Since uses recursion backtracking is done through implicit stack\n",
    "    1. set current point as visited\n",
    "    2. while there are unvisited neighbours\n",
    "    3. pick one at random mark as visited\n",
    "    4. carve a passage between current and picked neighbour\n",
    "    5. repeat all steps with picked neighbour\n",
    "    \"\"\"\n",
    "    seed(int(time.time()))\n",
    "    shape = ((height // 2) * 2 + 1, (width // 2) * 2 + 1) # only odd shapes\n",
    "    maze = np.ones(shape)\n",
    "    while True: # need a random starting point with even coord\n",
    "        x = randint(0, width)\n",
    "        y = randint(0, height)\n",
    "        if x % 2 == 0 and y % 2 == 0: break\n",
    "    def visit(x, y):\n",
    "        maze[y, x] = 0 # mark visited - remove block\n",
    "        neighbours = [(x+2, y), (x-2, y), (x, y-2), (x, y+2)]\n",
    "        shuffle(neighbours)\n",
    "        for nx, ny in neighbours:\n",
    "            if (0 <= nx <= shape[1] - 1) and (0 <= ny <= shape[0] - 1) and maze[ny, nx] == 1:\n",
    "                maze[ny, nx] = 0 # marking neighbour as visited and carve block\n",
    "                # carve passage between neighbour and current cell\n",
    "                maze[ny + (y - ny) // 2, nx + (x - nx) // 2] = 0\n",
    "                visit(nx, ny) # choosing neighbour as current cell and explore\n",
    "    visit(x, y) # starting cell\n",
    "    return maze, shape"
   ]
  },
  {
   "cell_type": "markdown",
   "metadata": {},
   "source": [
    "Code to show generate maze in notebook using matplotlib"
   ]
  },
  {
   "cell_type": "code",
   "execution_count": 7,
   "metadata": {},
   "outputs": [
    {
     "data": {
      "image/png": "[encoded data removed]",
      "text/plain": [
       "<Figure size 1440x720 with 1 Axes>"
      ]
     },
     "metadata": {},
     "output_type": "display_data"
    }
   ],
   "source": [
    "%matplotlib inline\n",
    "maze, shape = generate_maze(150, 80)\n",
    "for_render = render(maze, shape)\n",
    "pyplot.figure(figsize=(20, 10))\n",
    "pyplot.imshow(for_render, cmap=pyplot.get_cmap('Accent'), interpolation='nearest')\n",
    "pyplot.xticks([]), pyplot.yticks([])\n",
    "pyplot.show()"
   ]
  },
  {
   "cell_type": "code",
   "execution_count": null,
   "metadata": {},
   "outputs": [],
   "source": []
  }
 ],
 "metadata": {
  "kernelspec": {
   "display_name": "Python 3",
   "language": "python",
   "name": "python3"
  },
  "language_info": {
   "codemirror_mode": {
    "name": "ipython",
    "version": 3
   },
   "file_extension": ".py",
   "mimetype": "text/x-python",
   "name": "python",
   "nbconvert_exporter": "python",
   "pygments_lexer": "ipython3",
   "version": "3.7.0"
  }
 },
 "nbformat": 4,
 "nbformat_minor": 2
}
