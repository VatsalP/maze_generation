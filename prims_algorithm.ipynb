{
 "cells": [
  {
   "cell_type": "markdown",
   "metadata": {},
   "source": [
    "# Maze generation using Prim's algorithm"
   ]
  },
  {
   "cell_type": "code",
   "execution_count": 7,
   "metadata": {},
   "outputs": [],
   "source": [
    "import time\n",
    "\n",
    "import numpy as np\n",
    "from matplotlib import pyplot\n",
    "from numpy.random import randint, shuffle, seed"
   ]
  },
  {
   "cell_type": "markdown",
   "metadata": {},
   "source": [
    "The following maze generation is of passage carver type i.e. it starts with filled space and carves passage."
   ]
  },
  {
   "cell_type": "code",
   "execution_count": 8,
   "metadata": {},
   "outputs": [],
   "source": [
    "def render(maze, shape, colored_pillars=False):\n",
    "    \"\"\"Prepares maze with walls\n",
    "    \"\"\"\n",
    "    # corner pillars between adjacent rooms\n",
    "    if colored_pillars:\n",
    "        for i in range(1, shape[0]-1, 2):\n",
    "            for j in range(1, shape[1]-1, 2):\n",
    "                maze[i, j] = 3\n",
    "    # build some walls\n",
    "    maze = np.insert(maze, shape[1], 1, axis=1)\n",
    "    maze = np.insert(maze, 0, 1, axis=1)\n",
    "    maze = np.insert(maze, shape[0], np.ones(shape[1]+2), axis=0)\n",
    "    maze = np.insert(maze, 0, np.ones(shape[1]+2), axis=0)\n",
    "    return maze\n",
    "\n",
    "def add_neighbours(lis, x, y, shape):\n",
    "        if x > 1: lis.append(((y, x), (y, x - 2)))\n",
    "        if x < shape[1] - 1: lis.append(((y, x), (y, x + 2)))\n",
    "        if y > 1: lis.append(((y, x), (y - 2, x)))\n",
    "        if y < shape[0] - 1: lis.append(((y, x), (y + 2, x)))\n",
    "        return lis\n",
    "\n",
    "def generate_maze(width=100, height=50):\n",
    "    \"\"\"This algorithm is a randomized version of Prim's algorithm.\n",
    "\n",
    "    1. Start with a grid full of walls.\n",
    "    2. Pick a cell, mark it as part of the maze. Add the walls of the cell to the wall list.\n",
    "    3. While there are walls in the list:\n",
    "        1. Pick a random wall from the list. \n",
    "        If only one of the two cells that the wall divides is visited, then:\n",
    "            1. Make the wall a passage and mark the unvisited cell as part of the maze.\n",
    "            2. Add the neighboring walls of the cell to the wall list.\n",
    "        2. Remove the wall from the list\n",
    "    \"\"\"\n",
    "    seed(int(time.time()))\n",
    "    #seed(0)\n",
    "    shape = ((height // 2) * 2 + 1, (width // 2) * 2 + 1) # only odd shapes\n",
    "    total_nodes = ((shape[0] // 2) + 1) * ((shape[1] // 2) + 1)\n",
    "    maze = np.ones(shape)\n",
    "    height_range, width_range = np.arange(0, shape[0], 2), np.arange(0, shape[1], 2)\n",
    "    # need a random starting point with even coord\n",
    "    x = width_range[randint(0, len(width_range))]\n",
    "    y = height_range[randint(0, len(height_range))]\n",
    "    maze[y, x] = 0\n",
    "    to_visit = add_neighbours([], x, y, shape)\n",
    "    while to_visit:\n",
    "        get_random_wall = to_visit[randint(0, len(to_visit))]\n",
    "        (y, x), (ny, nx) = get_random_wall\n",
    "        if (0 <= nx <= shape[1] - 1) and (0 <= ny <= shape[0] - 1) and maze[ny, nx] == 1:\n",
    "            maze[ny, nx] = 0 # marking neighbour as visited and carve block\n",
    "            # carve passage for the edge\n",
    "            maze[ny + (y - ny) // 2, nx + (x - nx) // 2] = 0\n",
    "            to_visit = add_neighbours(to_visit, nx, ny, shape)\n",
    "            to_visit.remove((get_random_wall[1], get_random_wall[0])) # dont want to visit same edge again\n",
    "        to_visit.remove(get_random_wall)\n",
    "    return maze, shape"
   ]
  },
  {
   "cell_type": "markdown",
   "metadata": {},
   "source": [
    "Code to show generate maze in notebook using matplotlib"
   ]
  },
  {
   "cell_type": "code",
   "execution_count": 9,
   "metadata": {},
   "outputs": [
    {
     "data": {
      "image/png": "[encoded data removed]",
      "text/plain": [
       "<Figure size 1440x1440 with 1 Axes>"
      ]
     },
     "metadata": {},
     "output_type": "display_data"
    }
   ],
   "source": [
    "%matplotlib inline\n",
    "maze, shape = generate_maze(150, 50)\n",
    "for_render = render(maze, shape, False)\n",
    "pyplot.figure(figsize=(20, 20))\n",
    "pyplot.imshow(for_render, cmap=pyplot.get_cmap('Accent'), interpolation='nearest')\n",
    "pyplot.xticks([]), pyplot.yticks([])\n",
    "pyplot.show()"
   ]
  },
  {
   "cell_type": "code",
   "execution_count": null,
   "metadata": {},
   "outputs": [],
   "source": []
  }
 ],
 "metadata": {
  "kernelspec": {
   "display_name": "Python 3",
   "language": "python",
   "name": "python3"
  },
  "language_info": {
   "codemirror_mode": {
    "name": "ipython",
    "version": 3
   },
   "file_extension": ".py",
   "mimetype": "text/x-python",
   "name": "python",
   "nbconvert_exporter": "python",
   "pygments_lexer": "ipython3",
   "version": "3.7.0"
  }
 },
 "nbformat": 4,
 "nbformat_minor": 2
}
